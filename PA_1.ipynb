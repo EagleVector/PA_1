{
 "cells": [
  {
   "cell_type": "markdown",
   "id": "c7461f68",
   "metadata": {},
   "source": [
    "Q1. Write a Python program to print 'Hello Python'?"
   ]
  },
  {
   "cell_type": "code",
   "execution_count": 1,
   "id": "aa056769",
   "metadata": {},
   "outputs": [
    {
     "name": "stdout",
     "output_type": "stream",
     "text": [
      "Hello Python\n"
     ]
    }
   ],
   "source": [
    "s = 'Hello Python'\n",
    "print(s)"
   ]
  },
  {
   "cell_type": "markdown",
   "id": "627119d8",
   "metadata": {},
   "source": [
    "Q2. Write a Python program to do arithmetical operations addition and division?"
   ]
  },
  {
   "cell_type": "code",
   "execution_count": 4,
   "id": "66935c94",
   "metadata": {},
   "outputs": [
    {
     "name": "stdout",
     "output_type": "stream",
     "text": [
      "Enter the 1st number: 10\n",
      "Enter the 2nd number: 2\n",
      "Arithmetic addition of 1st and 2nd number entered is:  12\n",
      "Divison of 1st and 2nd number entered is:  5.0\n"
     ]
    }
   ],
   "source": [
    "a = int(input(\"Enter the 1st number: \"))\n",
    "b = int(input(\"Enter the 2nd number: \"))\n",
    "result1 = a + b\n",
    "result2 = a/b\n",
    "print(\"Arithmetic addition of 1st and 2nd number entered is: \",result1)\n",
    "print(\"Divison of 1st and 2nd number entered is: \",result2)"
   ]
  },
  {
   "cell_type": "markdown",
   "id": "8d19f2f0",
   "metadata": {},
   "source": [
    "Q3. Write a Python program to find the area of a triangle?"
   ]
  },
  {
   "cell_type": "code",
   "execution_count": 1,
   "id": "dfd1f1c7",
   "metadata": {},
   "outputs": [
    {
     "name": "stdout",
     "output_type": "stream",
     "text": [
      "Enter the base of the triangle: 4.5\n",
      "Enter the height of the triangle: 8\n",
      "Area of the given triangle is:  18.0\n"
     ]
    }
   ],
   "source": [
    "base = float(input(\"Enter the base of the triangle: \"))\n",
    "height = float(input(\"Enter the height of the triangle: \"))\n",
    "\n",
    "Area = 1/2 * base * height\n",
    "\n",
    "print(\"Area of the given triangle is: \",Area)"
   ]
  },
  {
   "cell_type": "markdown",
   "id": "93ed9f8e",
   "metadata": {},
   "source": [
    "Q4. Write a Python program to swap two variables?"
   ]
  },
  {
   "cell_type": "code",
   "execution_count": 13,
   "id": "90acc3bd",
   "metadata": {},
   "outputs": [
    {
     "name": "stdout",
     "output_type": "stream",
     "text": [
      "Enter the value of a: 10\n",
      "Enter the value of b: 20\n",
      "The new value of a is:  20\n",
      "The new value of b is:  10\n"
     ]
    }
   ],
   "source": [
    "a = int(input(\"Enter the value of a: \"))\n",
    "b = int(input(\"Enter the value of b: \"))\n",
    "#Create a new variable c\n",
    "c = a    #Store the value of a in c\n",
    "a = b    #Swaping\n",
    "print(\"The new value of a is: \",a)\n",
    "b = c\n",
    "print(\"The new value of b is: \",b)"
   ]
  },
  {
   "cell_type": "markdown",
   "id": "5df32f0f",
   "metadata": {},
   "source": [
    "Q5. Write a Python program to generate a random number?"
   ]
  },
  {
   "cell_type": "code",
   "execution_count": 17,
   "id": "53f95a0f",
   "metadata": {},
   "outputs": [
    {
     "name": "stdout",
     "output_type": "stream",
     "text": [
      "0.8379613893262359\n"
     ]
    }
   ],
   "source": [
    "import random\n",
    "n = random.random()\n",
    "print(n)"
   ]
  }
 ],
 "metadata": {
  "kernelspec": {
   "display_name": "Python 3 (ipykernel)",
   "language": "python",
   "name": "python3"
  },
  "language_info": {
   "codemirror_mode": {
    "name": "ipython",
    "version": 3
   },
   "file_extension": ".py",
   "mimetype": "text/x-python",
   "name": "python",
   "nbconvert_exporter": "python",
   "pygments_lexer": "ipython3",
   "version": "3.9.7"
  }
 },
 "nbformat": 4,
 "nbformat_minor": 5
}
